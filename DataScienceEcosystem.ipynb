{
 "cells": [
  {
   "cell_type": "markdown",
   "id": "5ab24329",
   "metadata": {},
   "source": [
    "# Data Science Tools and Ecosystem"
   ]
  },
  {
   "cell_type": "markdown",
   "id": "a4faabad",
   "metadata": {},
   "source": [
    "This notebook contains a description of various Data Science tools and ecosystems prepared by me; John Kiran"
   ]
  },
  {
   "cell_type": "markdown",
   "id": "17b9bc4b",
   "metadata": {},
   "source": [
    "**Objectives:**\n",
    "- List popular languages in data science\n",
    "- List commonly used libraries in data science\n",
    "- List commonly used tools or IDes in data science\n",
    "- Evaluate aritmetic expressions using python in Jupyter Notebook"
   ]
  },
  {
   "cell_type": "markdown",
   "id": "6cf738e1",
   "metadata": {},
   "source": [
    "## Author\n",
    "John Kiran"
   ]
  },
  {
   "cell_type": "markdown",
   "id": "1e3eedfb",
   "metadata": {},
   "source": [
    "The popular languages that Data Scientists use are:\n",
    "1. Python\n",
    "2. R\n",
    "3. Julia\n",
    "4. MATLAB\n",
    "5. Java"
   ]
  },
  {
   "cell_type": "markdown",
   "id": "d9513ec5",
   "metadata": {},
   "source": [
    "The commonly used libraries used by Data Scientists include:\n",
    "1. TensorFlow\n",
    "2. PyTorch\n",
    "3. Pandas\n",
    "4. Numpy\n",
    "5. Matplotlib"
   ]
  },
  {
   "cell_type": "markdown",
   "id": "2cb1216f",
   "metadata": {},
   "source": [
    "| Data Science Tools |\n",
    "|--------------------|\n",
    "|       VSCode       |\n",
    "|     JupyterLab     |\n",
    "|       Spyder       |"
   ]
  },
  {
   "cell_type": "markdown",
   "id": "cb3ffe50",
   "metadata": {},
   "source": [
    "### Below are a few examples of evaluating arithmetic expressions in Python"
   ]
  },
  {
   "cell_type": "code",
   "execution_count": 1,
   "id": "600d10c9",
   "metadata": {},
   "outputs": [
    {
     "data": {
      "text/plain": [
       "17"
      ]
     },
     "execution_count": 1,
     "metadata": {},
     "output_type": "execute_result"
    }
   ],
   "source": [
    "# This a simple arithmetic expression to mutiply then add integers. It should return the output 17.\n",
    "(3*4)+5"
   ]
  },
  {
   "cell_type": "code",
   "execution_count": 2,
   "id": "e20740ff",
   "metadata": {},
   "outputs": [
    {
     "name": "stdout",
     "output_type": "stream",
     "text": [
      "3.3333333333333335 hours\n"
     ]
    }
   ],
   "source": [
    "# This will convert 200 minutes to hours by diving by 60.\n",
    "min = 200\n",
    "hrs = 200/60\n",
    "print(hrs,'hours')"
   ]
  },
  {
   "cell_type": "code",
   "execution_count": null,
   "id": "a922aa2c",
   "metadata": {},
   "outputs": [],
   "source": []
  }
 ],
 "metadata": {
  "kernelspec": {
   "display_name": "Python 3 (ipykernel)",
   "language": "python",
   "name": "python3"
  },
  "language_info": {
   "codemirror_mode": {
    "name": "ipython",
    "version": 3
   },
   "file_extension": ".py",
   "mimetype": "text/x-python",
   "name": "python",
   "nbconvert_exporter": "python",
   "pygments_lexer": "ipython3",
   "version": "3.9.13"
  }
 },
 "nbformat": 4,
 "nbformat_minor": 5
}
